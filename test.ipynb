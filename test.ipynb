{
 "cells": [
  {
   "cell_type": "code",
   "execution_count": null,
   "metadata": {},
   "outputs": [],
   "source": [
    "#install packages if not installed already\n",
    "%pip install pandas datetime numpy matplotlib yfinance"
   ]
  },
  {
   "cell_type": "code",
   "execution_count": null,
   "metadata": {},
   "outputs": [],
   "source": [
    "#import libraries\n",
    "import pandas as pd\n",
    "import datetime\n",
    "import numpy as np\n",
    "import matplotlib.pyplot as plt\n",
    "from pandas.plotting import scatter_matrix\n",
    "import yfinance as yf"
   ]
  },
  {
   "cell_type": "code",
   "execution_count": null,
   "metadata": {},
   "outputs": [],
   "source": [
    "#try some of the features\n",
    "start = \"2014-01-01\"\n",
    "end = '2019-1-01'\n",
    "tcs = yf.download('TCS',start,end)\n",
    "infy = yf.download('INFY',start,end)\n",
    "wipro = yf.download('WIPRO.NS',start,end)\n",
    "\n",
    "tcs['Volume'].plot(label = 'TCS', figsize = (15,7))\n",
    "infy['Volume'].plot(label = \"Infosys\")\n",
    "wipro['Volume'].plot(label = 'Wipro')\n",
    "plt.title('Volume of Stock traded')\n",
    "plt.legend()\n",
    "\n",
    "#Market Capitalisation\n",
    "tcs['MarktCap'] = tcs['Open'] * tcs['Volume']\n",
    "infy['MarktCap'] = infy['Open'] * infy['Volume']\n",
    "wipro['MarktCap'] = wipro['Open'] * wipro['Volume']\n",
    "tcs['MarktCap'].plot(label = 'TCS', figsize = (15,7))\n",
    "infy['MarktCap'].plot(label = 'Infosys')\n",
    "wipro['MarktCap'].plot(label = 'Wipro')\n",
    "plt.title('Market Cap')\n",
    "plt.legend()\n",
    "\n",
    "tcs['MA50'] = tcs['Open'].rolling(50).mean()\n",
    "tcs['MA200'] = tcs['Open'].rolling(200).mean()\n",
    "tcs['Open'].plot(figsize = (15,7))\n",
    "tcs['MA50'].plot()\n",
    "tcs['MA200'].plot()\n",
    "\n",
    "data = pd.concat([tcs['Open'],infy['Open'],wipro['Open']],axis = 1)\n",
    "data.columns = ['TCSOpen','InfosysOpen','WiproOpen']\n",
    "scatter_matrix(data, figsize = (8,8), hist_kwds= {'bins':250})\n",
    "\n",
    "#Volatility\n",
    "tcs['returns'] = (tcs['Close']/tcs['Close'].shift(1)) -1\n",
    "infy['returns'] = (infy['Close']/infy['Close'].shift(1))-1\n",
    "wipro['returns'] = (wipro['Close']/wipro['Close'].shift(1)) - 1\n",
    "tcs['returns'].hist(bins = 100, label = 'TCS', alpha = 0.5, figsize = (15,7))\n",
    "infy['returns'].hist(bins = 100, label = 'Infosysy', alpha = 0.5)\n",
    "wipro['returns'].hist(bins = 100, label = 'Wipro', alpha = 0.5)\n",
    "plt.legend()"
   ]
  }
 ],
 "metadata": {
  "kernelspec": {
   "display_name": "Python 3",
   "language": "python",
   "name": "python3"
  },
  "language_info": {
   "codemirror_mode": {
    "name": "ipython",
    "version": 3
   },
   "file_extension": ".py",
   "mimetype": "text/x-python",
   "name": "python",
   "nbconvert_exporter": "python",
   "pygments_lexer": "ipython3",
   "version": "3.11.9"
  }
 },
 "nbformat": 4,
 "nbformat_minor": 2
}
